{
 "cells": [
  {
   "cell_type": "code",
   "execution_count": 1,
   "id": "opening-device",
   "metadata": {},
   "outputs": [
    {
     "name": "stdout",
     "output_type": "stream",
     "text": [
      "user:  User(id=1, username='root', password='pbkdf2_sha256$216000$8xvCTYiROdL1$9YWcThy+uOYFGFtHfmjalLHUCoq+8E2pLjYdN/m0+JI=', last_login=datetime.datetime(2021, 1, 16, 10, 49, 47, 191064, tzinfo=psycopg2.tz.FixedOffsetTimezone(offset=0, name=None)), is_superuser=True, first_name='', last_name='', email='KimSoungRyoul@gmail.com', is_staff=True, is_active=True, date_joined=datetime.datetime(2021, 1, 16, 10, 20, 45, 826561, tzinfo=psycopg2.tz.FixedOffsetTimezone(offset=0, name=None)))\n"
     ]
    }
   ],
   "source": [
    "# ORM 없이 database에서 원하는 데이터를 조회하기\n",
    "from dataclasses import dataclass\n",
    "from datetime import datetime\n",
    "from typing import Any, Tuple\n",
    "\n",
    "import psycopg2 as pg2\n",
    "\n",
    "\n",
    "@dataclass\n",
    "class User:\n",
    "    id: int\n",
    "    username: str\n",
    "    password: str\n",
    "    last_login: datetime\n",
    "    is_superuser: bool\n",
    "    first_name: str\n",
    "    last_name: str\n",
    "    email: str\n",
    "    is_staff: bool\n",
    "    is_active: bool\n",
    "    date_joined: datetime\n",
    "\n",
    "\n",
    "def get_user(id) -> User:\n",
    "    with pg2.connect(\n",
    "        dbname=\"django_backend_programming_db\", user=\"postgres\", password=\"1234\", host=\"127.0.0.1\", port=5436,\n",
    "    ) as conn:\n",
    "        with conn.cursor() as cur:\n",
    "            sql = f\"SELECT id,username, password,last_login, is_superuser,first_name,last_name,email, is_staff,is_active,date_joined FROM auth_user where id={id}\"\n",
    "            cur.execute(sql)\n",
    "            row: Tuple[Any] = cur.fetchone()\n",
    "            user = User(\n",
    "                id=row[0],\n",
    "                username=row[1],\n",
    "                password=row[2],\n",
    "                last_login=row[3],\n",
    "                is_superuser=row[4],\n",
    "                first_name=row[5],\n",
    "                last_name=row[6],\n",
    "                email=row[7],\n",
    "                is_staff=row[8],\n",
    "                is_active=row[9],\n",
    "                date_joined=row[10],\n",
    "            )\n",
    "    return user\n",
    "\n",
    "\n",
    "if __name__ == \"__main__\":\n",
    "\n",
    "    # 데이터베이스에서 user의 id가 1인 데이터를 가져오는 함수를 만들었다! get_user()\n",
    "    # 하지만 너무 시간이 많이 걸렸어 코드도 너무 지루해   // boilerplateCode가 발생함\n",
    "    user: User = get_user(id=1)\n",
    "\n",
    "    print(\"user: \", user)\n"
   ]
  },
  {
   "cell_type": "code",
   "execution_count": null,
   "id": "planned-combination",
   "metadata": {},
   "outputs": [],
   "source": []
  }
 ],
 "metadata": {
  "kernelspec": {
   "display_name": "Django Shell-Plus",
   "language": "python",
   "name": "django_extensions"
  },
  "language_info": {
   "codemirror_mode": {
    "name": "ipython",
    "version": 3
   },
   "file_extension": ".py",
   "mimetype": "text/x-python",
   "name": "python",
   "nbconvert_exporter": "python",
   "pygments_lexer": "ipython3",
   "version": "3.9.1"
  }
 },
 "nbformat": 4,
 "nbformat_minor": 5
}
